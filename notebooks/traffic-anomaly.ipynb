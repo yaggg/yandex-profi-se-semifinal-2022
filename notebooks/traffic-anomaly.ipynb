{
 "cells": [
  {
   "cell_type": "code",
   "execution_count": 1,
   "metadata": {},
   "outputs": [],
   "source": [
    "import pandas as pd"
   ]
  },
  {
   "cell_type": "code",
   "execution_count": 2,
   "metadata": {},
   "outputs": [],
   "source": [
    "path = '../data/traffic.csv'"
   ]
  },
  {
   "cell_type": "code",
   "execution_count": 3,
   "metadata": {},
   "outputs": [],
   "source": [
    "traffic_data = pd.read_csv(path)"
   ]
  },
  {
   "cell_type": "code",
   "execution_count": 4,
   "metadata": {},
   "outputs": [
    {
     "data": {
      "text/html": [
       "<div>\n",
       "<style scoped>\n",
       "    .dataframe tbody tr th:only-of-type {\n",
       "        vertical-align: middle;\n",
       "    }\n",
       "\n",
       "    .dataframe tbody tr th {\n",
       "        vertical-align: top;\n",
       "    }\n",
       "\n",
       "    .dataframe thead th {\n",
       "        text-align: right;\n",
       "    }\n",
       "</style>\n",
       "<table border=\"1\" class=\"dataframe\">\n",
       "  <thead>\n",
       "    <tr style=\"text-align: right;\">\n",
       "      <th></th>\n",
       "      <th>date</th>\n",
       "      <th>device</th>\n",
       "      <th>value</th>\n",
       "    </tr>\n",
       "  </thead>\n",
       "  <tbody>\n",
       "    <tr>\n",
       "      <th>0</th>\n",
       "      <td>21.12.2021 0:00</td>\n",
       "      <td>Cisco 5300 port1</td>\n",
       "      <td>161.152</td>\n",
       "    </tr>\n",
       "    <tr>\n",
       "      <th>1</th>\n",
       "      <td>21.12.2021 1:00</td>\n",
       "      <td>Cisco 5300 port1</td>\n",
       "      <td>145.459</td>\n",
       "    </tr>\n",
       "    <tr>\n",
       "      <th>2</th>\n",
       "      <td>21.12.2021 2:00</td>\n",
       "      <td>Cisco 5300 port1</td>\n",
       "      <td>133.040</td>\n",
       "    </tr>\n",
       "    <tr>\n",
       "      <th>3</th>\n",
       "      <td>21.12.2021 3:00</td>\n",
       "      <td>Cisco 5300 port1</td>\n",
       "      <td>507.856</td>\n",
       "    </tr>\n",
       "    <tr>\n",
       "      <th>4</th>\n",
       "      <td>21.12.2021 4:00</td>\n",
       "      <td>Cisco 5300 port1</td>\n",
       "      <td>109.670</td>\n",
       "    </tr>\n",
       "    <tr>\n",
       "      <th>5</th>\n",
       "      <td>21.12.2021 5:00</td>\n",
       "      <td>Cisco 5300 port1</td>\n",
       "      <td>125.773</td>\n",
       "    </tr>\n",
       "    <tr>\n",
       "      <th>6</th>\n",
       "      <td>21.12.2021 6:00</td>\n",
       "      <td>Cisco 5300 port1</td>\n",
       "      <td>157.216</td>\n",
       "    </tr>\n",
       "    <tr>\n",
       "      <th>7</th>\n",
       "      <td>21.12.2021 7:00</td>\n",
       "      <td>Cisco 5300 port1</td>\n",
       "      <td>278.470</td>\n",
       "    </tr>\n",
       "    <tr>\n",
       "      <th>8</th>\n",
       "      <td>21.12.2021 8:00</td>\n",
       "      <td>Cisco 5300 port1</td>\n",
       "      <td>374.787</td>\n",
       "    </tr>\n",
       "    <tr>\n",
       "      <th>9</th>\n",
       "      <td>21.12.2021 9:00</td>\n",
       "      <td>Cisco 5300 port1</td>\n",
       "      <td>368.768</td>\n",
       "    </tr>\n",
       "    <tr>\n",
       "      <th>10</th>\n",
       "      <td>21.12.2021 10:00</td>\n",
       "      <td>Cisco 5300 port1</td>\n",
       "      <td>413.117</td>\n",
       "    </tr>\n",
       "  </tbody>\n",
       "</table>\n",
       "</div>"
      ],
      "text/plain": [
       "                date            device    value\n",
       "0    21.12.2021 0:00  Cisco 5300 port1  161.152\n",
       "1    21.12.2021 1:00  Cisco 5300 port1  145.459\n",
       "2    21.12.2021 2:00  Cisco 5300 port1  133.040\n",
       "3    21.12.2021 3:00  Cisco 5300 port1  507.856\n",
       "4    21.12.2021 4:00  Cisco 5300 port1  109.670\n",
       "5    21.12.2021 5:00  Cisco 5300 port1  125.773\n",
       "6    21.12.2021 6:00  Cisco 5300 port1  157.216\n",
       "7    21.12.2021 7:00  Cisco 5300 port1  278.470\n",
       "8    21.12.2021 8:00  Cisco 5300 port1  374.787\n",
       "9    21.12.2021 9:00  Cisco 5300 port1  368.768\n",
       "10  21.12.2021 10:00  Cisco 5300 port1  413.117"
      ]
     },
     "execution_count": 4,
     "metadata": {},
     "output_type": "execute_result"
    }
   ],
   "source": [
    "traffic_data"
   ]
  },
  {
   "cell_type": "code",
   "execution_count": 15,
   "metadata": {},
   "outputs": [
    {
     "name": "stdout",
     "output_type": "stream",
     "text": [
      "ALERT: 21.12.2021 3:00, device: Cisco 5300 port1, value: 507.856, Трафик выше нормы\n",
      "ALERT: 21.12.2021 4:00, device: Cisco 5300 port1, value: 109.67, Трафик ниже нормы\n",
      "ALERT: 21.12.2021 7:00, device: Cisco 5300 port1, value: 278.47, Трафик выше нормы\n",
      "ALERT: 21.12.2021 8:00, device: Cisco 5300 port1, value: 374.787, Трафик выше нормы\n"
     ]
    }
   ],
   "source": [
    "# Группируем по устройству\n",
    "groupby = traffic_data.groupby('device')\n",
    "\n",
    "# Для каждого устройства отдельная проверка\n",
    "for device in groupby.groups:\n",
    "    for w in groupby.get_group(device).rolling(window=2):\n",
    "        if len(w) == 1:\n",
    "            continue\n",
    "        _, _, v1 = w.iloc[0]\n",
    "        ts, _, v2 = w.iloc[1]\n",
    "        # Проверяем, что значение в диапозоне (0.9 * v1, 1.3 * v1)\n",
    "        if 0.9 * v1 > v2:\n",
    "            print(f'ALERT: {ts}, device: {device}, value: {v2}, Трафик ниже нормы')\n",
    "        elif  v2 > v1 * 1.3:\n",
    "            print(f'ALERT: {ts}, device: {device}, value: {v2}, Трафик выше нормы')"
   ]
  }
 ],
 "metadata": {
  "kernelspec": {
   "display_name": "Python 3 (ipykernel)",
   "language": "python",
   "name": "python3"
  },
  "language_info": {
   "codemirror_mode": {
    "name": "ipython",
    "version": 3
   },
   "file_extension": ".py",
   "mimetype": "text/x-python",
   "name": "python",
   "nbconvert_exporter": "python",
   "pygments_lexer": "ipython3",
   "version": "3.8.10"
  }
 },
 "nbformat": 4,
 "nbformat_minor": 1
}
